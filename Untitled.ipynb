{
 "cells": [
  {
   "cell_type": "code",
   "execution_count": 1,
   "id": "546c6e64",
   "metadata": {},
   "outputs": [],
   "source": [
    "import joblib\n",
    "import numpy as np"
   ]
  },
  {
   "cell_type": "code",
   "execution_count": 2,
   "id": "380dd35b",
   "metadata": {},
   "outputs": [],
   "source": [
    "def load_and_pre(input_data):\n",
    "    #load the pre-trained model\n",
    "    model = joblib.load('logistic_regression_model.pkl')\n",
    "\n",
    "    #Assuming input_data is a NumPy array or a list\n",
    "    input_data = np.array(input_data).reshape(1,-1)\n",
    "\n",
    "    #Make predictions using the loaded model\n",
    "    predictions = model.predict(input_data)\n",
    "    return predictions"
   ]
  },
  {
   "cell_type": "code",
   "execution_count": 3,
   "id": "5db7f54b",
   "metadata": {},
   "outputs": [
    {
     "name": "stdout",
     "output_type": "stream",
     "text": [
      "การทำนาย: ['A (HPV Infection cohort)']\n"
     ]
    },
    {
     "name": "stderr",
     "output_type": "stream",
     "text": [
      "C:\\Users\\user\\anaconda3\\Lib\\site-packages\\sklearn\\base.py:347: InconsistentVersionWarning: Trying to unpickle estimator LogisticRegression from version 1.0.2 when using version 1.3.0. This might lead to breaking code or invalid results. Use at your own risk. For more info please refer to:\n",
      "https://scikit-learn.org/stable/model_persistence.html#security-maintainability-limitations\n",
      "  warnings.warn(\n",
      "C:\\Users\\user\\anaconda3\\Lib\\site-packages\\sklearn\\base.py:464: UserWarning: X does not have valid feature names, but LogisticRegression was fitted with feature names\n",
      "  warnings.warn(\n"
     ]
    }
   ],
   "source": [
    "input_data_web = [19,14,2,30,4]\n",
    "predictions = load_and_pre(input_data_web)\n",
    "print(f'การทำนาย: {predictions}')"
   ]
  },
  {
   "cell_type": "code",
   "execution_count": 4,
   "id": "e189f507",
   "metadata": {},
   "outputs": [
    {
     "name": "stdout",
     "output_type": "stream",
     "text": [
      "All unique 'y' values in the model:\n",
      "A (HPV Infection cohort)\n",
      "B (CIN 1)\n",
      "C (CIN 2-3 or AIS)\n",
      "D (Invasive cervical carcinoma)\n",
      "E (only LBC abnormal)\n",
      "normal\n"
     ]
    },
    {
     "name": "stderr",
     "output_type": "stream",
     "text": [
      "C:\\Users\\user\\anaconda3\\Lib\\site-packages\\sklearn\\base.py:347: InconsistentVersionWarning: Trying to unpickle estimator LogisticRegression from version 1.0.2 when using version 1.3.0. This might lead to breaking code or invalid results. Use at your own risk. For more info please refer to:\n",
      "https://scikit-learn.org/stable/model_persistence.html#security-maintainability-limitations\n",
      "  warnings.warn(\n"
     ]
    }
   ],
   "source": [
    "def display_all_y_values(model):\n",
    "    # Assuming 'model' is the loaded logistic regression model\n",
    "    # You may need to adjust this based on the actual structure of your model\n",
    "\n",
    "    # Get all unique values of 'y' from the model\n",
    "    all_y_values = model.classes_\n",
    "\n",
    "    # Display all 'y' values\n",
    "    print(\"All unique 'y' values in the model:\")\n",
    "    for y_value in all_y_values:\n",
    "        print(y_value)\n",
    "\n",
    "# ตัวอย่างการใช้งาน\n",
    "model = joblib.load('logistic_regression_model.pkl')  # โมเดลที่ถูกโหลด\n",
    "\n",
    "# เรียกใช้ฟังก์ชันเพื่อแสดงค่า 'y' ทั้งหมดในโมเดล\n",
    "display_all_y_values(model)\n"
   ]
  },
  {
   "cell_type": "code",
   "execution_count": 8,
   "id": "cdb4698a",
   "metadata": {},
   "outputs": [
    {
     "name": "stdout",
     "output_type": "stream",
     "text": [
      "การทำนาย: ['A (HPV Infection cohort)']\n",
      "ท่านมีความเสี่ยงต่ำที่จะเป็นมะเร็งปากมดลูก\n"
     ]
    },
    {
     "name": "stderr",
     "output_type": "stream",
     "text": [
      "C:\\Users\\user\\anaconda3\\Lib\\site-packages\\sklearn\\base.py:347: InconsistentVersionWarning: Trying to unpickle estimator LogisticRegression from version 1.0.2 when using version 1.3.0. This might lead to breaking code or invalid results. Use at your own risk. For more info please refer to:\n",
      "https://scikit-learn.org/stable/model_persistence.html#security-maintainability-limitations\n",
      "  warnings.warn(\n",
      "C:\\Users\\user\\anaconda3\\Lib\\site-packages\\sklearn\\base.py:464: UserWarning: X does not have valid feature names, but LogisticRegression was fitted with feature names\n",
      "  warnings.warn(\n"
     ]
    }
   ],
   "source": [
    "input_data_web = [19,14,2,30,4]\n",
    "predictions = load_and_pre(input_data_web)\n",
    "print(f'การทำนาย: {predictions}')\n",
    "\n",
    "\n",
    "if np.all(predictions == 'C (CIN 2-3 or AIS)' or predictions == 'D (Invasive cervical carcinoma)'):\n",
    "    print(\"ท่านมีความเสี่ยงสูงที่จะเป็นมะเร็งปากมดลูก\")\n",
    "else:\n",
    "    print(\"ท่านมีความเสี่ยงต่ำที่จะเป็นมะเร็งปากมดลูก\")\n"
   ]
  },
  {
   "cell_type": "code",
   "execution_count": null,
   "id": "9ea47d00",
   "metadata": {},
   "outputs": [],
   "source": []
  }
 ],
 "metadata": {
  "kernelspec": {
   "display_name": "Python 3 (ipykernel)",
   "language": "python",
   "name": "python3"
  },
  "language_info": {
   "codemirror_mode": {
    "name": "ipython",
    "version": 3
   },
   "file_extension": ".py",
   "mimetype": "text/x-python",
   "name": "python",
   "nbconvert_exporter": "python",
   "pygments_lexer": "ipython3",
   "version": "3.11.5"
  }
 },
 "nbformat": 4,
 "nbformat_minor": 5
}
